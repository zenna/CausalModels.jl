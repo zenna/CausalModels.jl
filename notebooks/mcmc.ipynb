{
 "cells": [
  {
   "cell_type": "markdown",
   "metadata": {},
   "source": [
    "# Markov Chain Monte Carlo"
   ]
  },
  {
   "cell_type": "markdown",
   "metadata": {},
   "source": [
    "Markov Chain Monte Carlo (MCMC) describes a variety of methods that exploit __Markov chains__  in order to draw random samples from desired probability distributions.\n",
    "Markov chains are stochastic processes that evolve over time and space.\n",
    "I'll first describe them in detail, and show how a special class of Markov chains exhibit predictable long term behaviour, even when the individual steps are random.\n",
    "Then I'll introduce methods which allow us to construct a Markov Chain whose long-term behaviour matches the behaviour we want."
   ]
  },
  {
   "cell_type": "markdown",
   "metadata": {},
   "source": [
    "## Markov Chains Over Finite State Spaces"
   ]
  },
  {
   "cell_type": "markdown",
   "metadata": {},
   "source": [
    "A Markov chain is a stochastic (i.e., random) process that transitions between states.\n",
    "Markov chains can evolve over discrete or continuous time, and over discrete or continuous spaces.\n",
    "We'll focus on discrete-time finite-space Markov chains.\n",
    "Let $\\chi$ be a finite set, a discrete-time Markov chain is a sequence of random variables $X_1, X_2, X_3, \\dots$ where $X_t$ denotes the state the stochastic process is in at time $t$.\n",
    "Markov chains have a special property: the probability that the process transitions from any state $x$ to any state $y$ depends only on the state $x$."
   ]
  },
  {
   "cell_type": "markdown",
   "metadata": {},
   "source": [
    "$$\n",
    "P(X_{t+1} = y \\mid X_t = x, X_{t-1} = x_{t-1}, \\dots, X_0 = x_0) = \n",
    "\\sum_{i=0}^n p(s_{t+1}=y|a=i,s_t=x)P(a=i)\n",
    "$$\n"
   ]
  },
  {
   "cell_type": "markdown",
   "metadata": {},
   "source": [
    "This property — sometimes called the Markov property — is what gives Markov chains their memoryless nature.\n",
    "A \"real world\" illustration is the board game Monopoly.\n",
    "Suppose we model Monoply as a Markov chain, where the state space $\\chi = \\{\\text{Trafalgar Square}, \\text{Vine Street}, \\dots\\}$ is the set of places that can be landed upon.\n",
    "Now, suppose we are about to roll from Park Lane (or Park Place, if you prefer) we think that probability distribution over places you will land on depends only on the fact that we are in Park Lane, and hence our model satisfies the Markov property.\n",
    "Unfortunately, we would be wrong.\n",
    "We might land on the CHANCE position. and depending on the CHANCE card we pick up — which depends on the CHANCE cards still available in the deck — have to roll again, or move some number of spots forward or backwards.\n",
    "In other words there is some hidden state or memory that effects the transition probabilities.\n",
    "Of course this is easily remedied by expanding what we consider to be the state space to include the state of the CHANCE cards."
   ]
  },
  {
   "cell_type": "markdown",
   "metadata": {},
   "source": [
    "## Matrix Representation\n",
    "Since the state space $\\chi$ is finite, we can represent a Markov chain as a matrix $K$ where $K(x, y)$ denotes the probability of moving from $x$ to $y$.\n",
    "$K$ is called a __stochastic matrix__ should it satisfy the following two properties:"
   ]
  },
  {
   "cell_type": "markdown",
   "metadata": {},
   "source": [
    "$$\n",
    "K(x, y) \\ge 0 \\text{ for all $x$ and $y$ }\n",
    "$$"
   ]
  },
  {
   "cell_type": "markdown",
   "metadata": {},
   "source": [
    "and"
   ]
  },
  {
   "cell_type": "markdown",
   "metadata": {},
   "source": [
    "$$\n",
    "\\sum_y K(x, y) = 1 \\text{ for all $x$ }\n",
    "$$"
   ]
  },
  {
   "cell_type": "markdown",
   "metadata": {},
   "source": [
    "These rules simply state that the Markov chain should adhere to the laws of probability. Namely (i) probabilities cannot be negative, and (ii) with certainty (i.e. with probability 1) if the process is in a state it must transition to another state, even if that state is itself."
   ]
  },
  {
   "cell_type": "markdown",
   "metadata": {},
   "source": [
    "These properies are easily computed:"
   ]
  },
  {
   "cell_type": "code",
   "execution_count": 70,
   "metadata": {},
   "outputs": [
    {
     "data": {
      "text/plain": [
       "isstochasticmat"
      ]
     },
     "execution_count": 70,
     "metadata": {},
     "output_type": "execute_result"
    }
   ],
   "source": [
    "\"Are all elements non-negative?\"\n",
    "function isnonnegative(K) \n",
    "   for row in K\n",
    "        for element in row\n",
    "            if element<=0\n",
    "                return false\n",
    "            end\n",
    "        end\n",
    "    end\n",
    "    return true\n",
    "end\n",
    "\n",
    "\"Are all rows probability vectors (sum to 1)\"\n",
    "function allrowspvecs(K)  # Use ≈ due to floating-point error\n",
    "    sums=sum(K; dims=2)\n",
    "    results=map(x-> isapprox(x,1;atol=0.1),sums)\n",
    "    answer=reduce(&,results,init=true)\n",
    "    return answer\n",
    "  \n",
    "end\n",
    "\n",
    "\"Is `K` a stochastic matrix?\"\n",
    "isstochasticmat(K) = isnonnegative(K) && allrowspvecs(K)"
   ]
  },
  {
   "cell_type": "markdown",
   "metadata": {},
   "source": [
    "Let's test it on some example matrices:"
   ]
  },
  {
   "cell_type": "code",
   "execution_count": 98,
   "metadata": {},
   "outputs": [
    {
     "name": "stdout",
     "output_type": "stream",
     "text": [
      "\u001b[37m\u001b[1mTest Summary:            | \u001b[22m\u001b[39m\u001b[32m\u001b[1mPass  \u001b[22m\u001b[39m\u001b[36m\u001b[1mTotal\u001b[22m\u001b[39m\n",
      "Stochastic matrix checks | \u001b[32m   3  \u001b[39m\u001b[36m    3\u001b[39m\n"
     ]
    },
    {
     "data": {
      "text/plain": [
       "Test.DefaultTestSet(\"Stochastic matrix checks\", Any[], 3, false)"
      ]
     },
     "execution_count": 98,
     "metadata": {},
     "output_type": "execute_result"
    }
   ],
   "source": [
    "using Test\n",
    "K1 = [-0.2 0.8 0.0\n",
    "       0.0 1.0 0.0\n",
    "       0.3 0.6 0.1]\n",
    "\n",
    "K2 = [ 0.4 0.8 1.2\n",
    "       2.0 1.3 0.4\n",
    "       1.3 0.6 0.1]\n",
    "\n",
    "K = [.3 .2 .5\n",
    "     .1 .1 .8\n",
    "     .7 .2 .1]\n",
    "\n",
    "@testset \"Stochastic matrix checks\" begin\n",
    "  @test !isstochasticmat(K1)\n",
    "  @test !isstochasticmat(K2)\n",
    "  @test isstochasticmat(K)\n",
    "end"
   ]
  },
  {
   "cell_type": "code",
   "execution_count": 99,
   "metadata": {},
   "outputs": [
    {
     "ename": "MethodError",
     "evalue": "MethodError: no method matching (::Colon)(::Int64, ::Tuple{})\nClosest candidates are:\n  Any(::T, ::Any, !Matched::T) where T<:Real at range.jl:41\n  Any(::A, ::Any, !Matched::C) where {A<:Real, C<:Real} at range.jl:10\n  Any(::T, ::Any, !Matched::T) where T at range.jl:40\n  ...",
     "output_type": "error",
     "traceback": [
      "MethodError: no method matching (::Colon)(::Int64, ::Tuple{})\nClosest candidates are:\n  Any(::T, ::Any, !Matched::T) where T<:Real at range.jl:41\n  Any(::A, ::Any, !Matched::C) where {A<:Real, C<:Real} at range.jl:10\n  Any(::T, ::Any, !Matched::T) where T at range.jl:40\n  ...",
      "",
      "Stacktrace:",
      " [1] top-level scope at In[99]:2"
     ]
    }
   ],
   "source": [
    "size(10) \n",
    "indices=collect(1:size(10))"
   ]
  },
  {
   "cell_type": "markdown",
   "metadata": {},
   "source": [
    "Simulating from the Markov chain is also straightforward.\n",
    "In the following snippet, `nextstep` maps a state `x` and matrix `K` to a new, randomly sampled state."
   ]
  },
  {
   "cell_type": "code",
   "execution_count": 118,
   "metadata": {},
   "outputs": [
    {
     "name": "stdout",
     "output_type": "stream",
     "text": [
      "tests\n",
      "[0.3 0.2 0.5; 0.1 0.1 0.8; 0.7 0.2 0.1]\n",
      "result\n",
      "\u001b[37m\u001b[1mTest Summary:    | \u001b[22m\u001b[39m\u001b[32m\u001b[1mPass  \u001b[22m\u001b[39m\u001b[36m\u001b[1mTotal\u001b[22m\u001b[39m\n",
      "Simulation tests | \u001b[32m   2  \u001b[39m\u001b[36m    2\u001b[39m\n"
     ]
    },
    {
     "data": {
      "text/plain": [
       "Test.DefaultTestSet(\"Simulation tests\", Any[], 2, false)"
      ]
     },
     "execution_count": 118,
     "metadata": {},
     "output_type": "execute_result"
    }
   ],
   "source": [
    "using StatsBase: sample, ProbabilityWeights\n",
    "using Random\n",
    "import Plots, Cairo, Plots, Fontconfig\n",
    "\n",
    "\"Simulate the Markov chain `K` for one step from `x`\"\n",
    "function sim1(rng, x, K)\n",
    "    w = ProbabilityWeights(K[:,x])\n",
    "    indices=collect(1:size(w)[1])\n",
    "    result=sample(rng,indices,w)\n",
    "    return result\n",
    "end\n",
    "\n",
    "sim1(x, K) = sim1(Random.GLOBAL_RNG, x, K)\n",
    "\n",
    "\"Simulate Markov chain for `n` steps\"\n",
    "function simn(rng, x, K, n)\n",
    "    path=Any[x]\n",
    "    state=x\n",
    "    for i in 1:n\n",
    "        new_state=sim1(rng,x,K)\n",
    "        push!(path, new_state)\n",
    "        state=new_state\n",
    "    end\n",
    "    return path\n",
    "end\n",
    "\n",
    "simn(x, K, n) = simn(Random.GLOBAL_RNG, x, K, n)\n",
    "println(\"tests\")\n",
    "println(K)\n",
    "seed=0\n",
    "println(\"result\")\n",
    "# println(sim1(Random.MersenneTwister(seed), 1, K))\n",
    "@testset \"Simulation tests\" begin\n",
    "  seed = 0\n",
    "  @test sim1(Random.MersenneTwister(seed), 1, K) == 3\n",
    "  @test simn(Random.MersenneTwister(seed), 1, K, 3) == [1, 3, 3, 1]\n",
    "end"
   ]
  },
  {
   "cell_type": "markdown",
   "metadata": {},
   "source": [
    "Let's see what 1000 steps looks like"
   ]
  },
  {
   "cell_type": "code",
   "execution_count": 119,
   "metadata": {},
   "outputs": [
    {
     "data": {
      "image/svg+xml": [
       "<?xml version=\"1.0\" encoding=\"utf-8\"?>\n",
       "<svg xmlns=\"http://www.w3.org/2000/svg\" xmlns:xlink=\"http://www.w3.org/1999/xlink\" width=\"600\" height=\"400\" viewBox=\"0 0 2400 1600\">\n",
       "<defs>\n",
       "  <clipPath id=\"clip0800\">\n",
       "    <rect x=\"0\" y=\"0\" width=\"2400\" height=\"1600\"/>\n",
       "  </clipPath>\n",
       "</defs>\n",
       "<path clip-path=\"url(#clip0800)\" d=\"\n",
       "M0 1600 L2400 1600 L2400 0 L0 0  Z\n",
       "  \" fill=\"#ffffff\" fill-rule=\"evenodd\" fill-opacity=\"1\"/>\n",
       "<defs>\n",
       "  <clipPath id=\"clip0801\">\n",
       "    <rect x=\"480\" y=\"0\" width=\"1681\" height=\"1600\"/>\n",
       "  </clipPath>\n",
       "</defs>\n",
       "<path clip-path=\"url(#clip0800)\" d=\"\n",
       "M167.279 1487.47 L2352.76 1487.47 L2352.76 121.675 L167.279 121.675  Z\n",
       "  \" fill=\"#ffffff\" fill-rule=\"evenodd\" fill-opacity=\"1\"/>\n",
       "<defs>\n",
       "  <clipPath id=\"clip0802\">\n",
       "    <rect x=\"167\" y=\"121\" width=\"2186\" height=\"1367\"/>\n",
       "  </clipPath>\n",
       "</defs>\n",
       "<polyline clip-path=\"url(#clip0802)\" style=\"stroke:#000000; stroke-width:2; stroke-opacity:0.1; fill:none\" points=\"\n",
       "  287.484,1487.47 287.484,121.675 \n",
       "  \"/>\n",
       "<polyline clip-path=\"url(#clip0802)\" style=\"stroke:#000000; stroke-width:2; stroke-opacity:0.1; fill:none\" points=\"\n",
       "  676.498,1487.47 676.498,121.675 \n",
       "  \"/>\n",
       "<polyline clip-path=\"url(#clip0802)\" style=\"stroke:#000000; stroke-width:2; stroke-opacity:0.1; fill:none\" points=\"\n",
       "  1065.51,1487.47 1065.51,121.675 \n",
       "  \"/>\n",
       "<polyline clip-path=\"url(#clip0802)\" style=\"stroke:#000000; stroke-width:2; stroke-opacity:0.1; fill:none\" points=\"\n",
       "  1454.52,1487.47 1454.52,121.675 \n",
       "  \"/>\n",
       "<polyline clip-path=\"url(#clip0802)\" style=\"stroke:#000000; stroke-width:2; stroke-opacity:0.1; fill:none\" points=\"\n",
       "  1843.54,1487.47 1843.54,121.675 \n",
       "  \"/>\n",
       "<polyline clip-path=\"url(#clip0802)\" style=\"stroke:#000000; stroke-width:2; stroke-opacity:0.1; fill:none\" points=\"\n",
       "  2232.55,1487.47 2232.55,121.675 \n",
       "  \"/>\n",
       "<polyline clip-path=\"url(#clip0802)\" style=\"stroke:#000000; stroke-width:2; stroke-opacity:0.1; fill:none\" points=\"\n",
       "  167.279,1448.82 2352.76,1448.82 \n",
       "  \"/>\n",
       "<polyline clip-path=\"url(#clip0802)\" style=\"stroke:#000000; stroke-width:2; stroke-opacity:0.1; fill:none\" points=\"\n",
       "  167.279,1251.2 2352.76,1251.2 \n",
       "  \"/>\n",
       "<polyline clip-path=\"url(#clip0802)\" style=\"stroke:#000000; stroke-width:2; stroke-opacity:0.1; fill:none\" points=\"\n",
       "  167.279,1053.58 2352.76,1053.58 \n",
       "  \"/>\n",
       "<polyline clip-path=\"url(#clip0802)\" style=\"stroke:#000000; stroke-width:2; stroke-opacity:0.1; fill:none\" points=\"\n",
       "  167.279,855.956 2352.76,855.956 \n",
       "  \"/>\n",
       "<polyline clip-path=\"url(#clip0802)\" style=\"stroke:#000000; stroke-width:2; stroke-opacity:0.1; fill:none\" points=\"\n",
       "  167.279,658.335 2352.76,658.335 \n",
       "  \"/>\n",
       "<polyline clip-path=\"url(#clip0802)\" style=\"stroke:#000000; stroke-width:2; stroke-opacity:0.1; fill:none\" points=\"\n",
       "  167.279,460.714 2352.76,460.714 \n",
       "  \"/>\n",
       "<polyline clip-path=\"url(#clip0802)\" style=\"stroke:#000000; stroke-width:2; stroke-opacity:0.1; fill:none\" points=\"\n",
       "  167.279,263.093 2352.76,263.093 \n",
       "  \"/>\n",
       "<polyline clip-path=\"url(#clip0800)\" style=\"stroke:#000000; stroke-width:4; stroke-opacity:1; fill:none\" points=\"\n",
       "  167.279,1487.47 2352.76,1487.47 \n",
       "  \"/>\n",
       "<polyline clip-path=\"url(#clip0800)\" style=\"stroke:#000000; stroke-width:4; stroke-opacity:1; fill:none\" points=\"\n",
       "  167.279,1487.47 167.279,121.675 \n",
       "  \"/>\n",
       "<polyline clip-path=\"url(#clip0800)\" style=\"stroke:#000000; stroke-width:4; stroke-opacity:1; fill:none\" points=\"\n",
       "  287.484,1487.47 287.484,1471.09 \n",
       "  \"/>\n",
       "<polyline clip-path=\"url(#clip0800)\" style=\"stroke:#000000; stroke-width:4; stroke-opacity:1; fill:none\" points=\"\n",
       "  676.498,1487.47 676.498,1471.09 \n",
       "  \"/>\n",
       "<polyline clip-path=\"url(#clip0800)\" style=\"stroke:#000000; stroke-width:4; stroke-opacity:1; fill:none\" points=\"\n",
       "  1065.51,1487.47 1065.51,1471.09 \n",
       "  \"/>\n",
       "<polyline clip-path=\"url(#clip0800)\" style=\"stroke:#000000; stroke-width:4; stroke-opacity:1; fill:none\" points=\"\n",
       "  1454.52,1487.47 1454.52,1471.09 \n",
       "  \"/>\n",
       "<polyline clip-path=\"url(#clip0800)\" style=\"stroke:#000000; stroke-width:4; stroke-opacity:1; fill:none\" points=\"\n",
       "  1843.54,1487.47 1843.54,1471.09 \n",
       "  \"/>\n",
       "<polyline clip-path=\"url(#clip0800)\" style=\"stroke:#000000; stroke-width:4; stroke-opacity:1; fill:none\" points=\"\n",
       "  2232.55,1487.47 2232.55,1471.09 \n",
       "  \"/>\n",
       "<polyline clip-path=\"url(#clip0800)\" style=\"stroke:#000000; stroke-width:4; stroke-opacity:1; fill:none\" points=\"\n",
       "  167.279,1448.82 193.505,1448.82 \n",
       "  \"/>\n",
       "<polyline clip-path=\"url(#clip0800)\" style=\"stroke:#000000; stroke-width:4; stroke-opacity:1; fill:none\" points=\"\n",
       "  167.279,1251.2 193.505,1251.2 \n",
       "  \"/>\n",
       "<polyline clip-path=\"url(#clip0800)\" style=\"stroke:#000000; stroke-width:4; stroke-opacity:1; fill:none\" points=\"\n",
       "  167.279,1053.58 193.505,1053.58 \n",
       "  \"/>\n",
       "<polyline clip-path=\"url(#clip0800)\" style=\"stroke:#000000; stroke-width:4; stroke-opacity:1; fill:none\" points=\"\n",
       "  167.279,855.956 193.505,855.956 \n",
       "  \"/>\n",
       "<polyline clip-path=\"url(#clip0800)\" style=\"stroke:#000000; stroke-width:4; stroke-opacity:1; fill:none\" points=\"\n",
       "  167.279,658.335 193.505,658.335 \n",
       "  \"/>\n",
       "<polyline clip-path=\"url(#clip0800)\" style=\"stroke:#000000; stroke-width:4; stroke-opacity:1; fill:none\" points=\"\n",
       "  167.279,460.714 193.505,460.714 \n",
       "  \"/>\n",
       "<polyline clip-path=\"url(#clip0800)\" style=\"stroke:#000000; stroke-width:4; stroke-opacity:1; fill:none\" points=\"\n",
       "  167.279,263.093 193.505,263.093 \n",
       "  \"/>\n",
       "<g clip-path=\"url(#clip0800)\">\n",
       "<text style=\"fill:#000000; fill-opacity:1; font-family:Arial,Helvetica Neue,Helvetica,sans-serif; font-size:48px; text-anchor:middle;\" transform=\"rotate(0, 287.484, 1541.47)\" x=\"287.484\" y=\"1541.47\">1.0</text>\n",
       "</g>\n",
       "<g clip-path=\"url(#clip0800)\">\n",
       "<text style=\"fill:#000000; fill-opacity:1; font-family:Arial,Helvetica Neue,Helvetica,sans-serif; font-size:48px; text-anchor:middle;\" transform=\"rotate(0, 676.498, 1541.47)\" x=\"676.498\" y=\"1541.47\">1.5</text>\n",
       "</g>\n",
       "<g clip-path=\"url(#clip0800)\">\n",
       "<text style=\"fill:#000000; fill-opacity:1; font-family:Arial,Helvetica Neue,Helvetica,sans-serif; font-size:48px; text-anchor:middle;\" transform=\"rotate(0, 1065.51, 1541.47)\" x=\"1065.51\" y=\"1541.47\">2.0</text>\n",
       "</g>\n",
       "<g clip-path=\"url(#clip0800)\">\n",
       "<text style=\"fill:#000000; fill-opacity:1; font-family:Arial,Helvetica Neue,Helvetica,sans-serif; font-size:48px; text-anchor:middle;\" transform=\"rotate(0, 1454.52, 1541.47)\" x=\"1454.52\" y=\"1541.47\">2.5</text>\n",
       "</g>\n",
       "<g clip-path=\"url(#clip0800)\">\n",
       "<text style=\"fill:#000000; fill-opacity:1; font-family:Arial,Helvetica Neue,Helvetica,sans-serif; font-size:48px; text-anchor:middle;\" transform=\"rotate(0, 1843.54, 1541.47)\" x=\"1843.54\" y=\"1541.47\">3.0</text>\n",
       "</g>\n",
       "<g clip-path=\"url(#clip0800)\">\n",
       "<text style=\"fill:#000000; fill-opacity:1; font-family:Arial,Helvetica Neue,Helvetica,sans-serif; font-size:48px; text-anchor:middle;\" transform=\"rotate(0, 2232.55, 1541.47)\" x=\"2232.55\" y=\"1541.47\">3.5</text>\n",
       "</g>\n",
       "<g clip-path=\"url(#clip0800)\">\n",
       "<text style=\"fill:#000000; fill-opacity:1; font-family:Arial,Helvetica Neue,Helvetica,sans-serif; font-size:48px; text-anchor:end;\" transform=\"rotate(0, 143.279, 1466.32)\" x=\"143.279\" y=\"1466.32\">0</text>\n",
       "</g>\n",
       "<g clip-path=\"url(#clip0800)\">\n",
       "<text style=\"fill:#000000; fill-opacity:1; font-family:Arial,Helvetica Neue,Helvetica,sans-serif; font-size:48px; text-anchor:end;\" transform=\"rotate(0, 143.279, 1268.7)\" x=\"143.279\" y=\"1268.7\">100</text>\n",
       "</g>\n",
       "<g clip-path=\"url(#clip0800)\">\n",
       "<text style=\"fill:#000000; fill-opacity:1; font-family:Arial,Helvetica Neue,Helvetica,sans-serif; font-size:48px; text-anchor:end;\" transform=\"rotate(0, 143.279, 1071.08)\" x=\"143.279\" y=\"1071.08\">200</text>\n",
       "</g>\n",
       "<g clip-path=\"url(#clip0800)\">\n",
       "<text style=\"fill:#000000; fill-opacity:1; font-family:Arial,Helvetica Neue,Helvetica,sans-serif; font-size:48px; text-anchor:end;\" transform=\"rotate(0, 143.279, 873.456)\" x=\"143.279\" y=\"873.456\">300</text>\n",
       "</g>\n",
       "<g clip-path=\"url(#clip0800)\">\n",
       "<text style=\"fill:#000000; fill-opacity:1; font-family:Arial,Helvetica Neue,Helvetica,sans-serif; font-size:48px; text-anchor:end;\" transform=\"rotate(0, 143.279, 675.835)\" x=\"143.279\" y=\"675.835\">400</text>\n",
       "</g>\n",
       "<g clip-path=\"url(#clip0800)\">\n",
       "<text style=\"fill:#000000; fill-opacity:1; font-family:Arial,Helvetica Neue,Helvetica,sans-serif; font-size:48px; text-anchor:end;\" transform=\"rotate(0, 143.279, 478.214)\" x=\"143.279\" y=\"478.214\">500</text>\n",
       "</g>\n",
       "<g clip-path=\"url(#clip0800)\">\n",
       "<text style=\"fill:#000000; fill-opacity:1; font-family:Arial,Helvetica Neue,Helvetica,sans-serif; font-size:48px; text-anchor:end;\" transform=\"rotate(0, 143.279, 280.593)\" x=\"143.279\" y=\"280.593\">600</text>\n",
       "</g>\n",
       "<g clip-path=\"url(#clip0800)\">\n",
       "<text style=\"fill:#000000; fill-opacity:1; font-family:Arial,Helvetica Neue,Helvetica,sans-serif; font-size:84px; text-anchor:middle;\" transform=\"rotate(0, 1260.02, 73.2)\" x=\"1260.02\" y=\"73.2\">1000 Samples from `K1`</text>\n",
       "</g>\n",
       "<path clip-path=\"url(#clip0802)\" d=\"\n",
       "M287.484 942.91 L287.484 1448.82 L676.498 1448.82 L676.498 942.91 L287.484 942.91 L287.484 942.91  Z\n",
       "  \" fill=\"#009af9\" fill-rule=\"evenodd\" fill-opacity=\"1\"/>\n",
       "<polyline clip-path=\"url(#clip0802)\" style=\"stroke:#000000; stroke-width:4; stroke-opacity:1; fill:none\" points=\"\n",
       "  287.484,942.91 287.484,1448.82 676.498,1448.82 676.498,942.91 287.484,942.91 \n",
       "  \"/>\n",
       "<path clip-path=\"url(#clip0802)\" d=\"\n",
       "M676.498 1448.82 L676.498 1448.82 L1065.51 1448.82 L1065.51 1448.82 L676.498 1448.82 L676.498 1448.82  Z\n",
       "  \" fill=\"#009af9\" fill-rule=\"evenodd\" fill-opacity=\"1\"/>\n",
       "<polyline clip-path=\"url(#clip0802)\" style=\"stroke:#000000; stroke-width:4; stroke-opacity:1; fill:none\" points=\"\n",
       "  676.498,1448.82 676.498,1448.82 1065.51,1448.82 676.498,1448.82 \n",
       "  \"/>\n",
       "<path clip-path=\"url(#clip0802)\" d=\"\n",
       "M1065.51 1265.03 L1065.51 1448.82 L1454.52 1448.82 L1454.52 1265.03 L1065.51 1265.03 L1065.51 1265.03  Z\n",
       "  \" fill=\"#009af9\" fill-rule=\"evenodd\" fill-opacity=\"1\"/>\n",
       "<polyline clip-path=\"url(#clip0802)\" style=\"stroke:#000000; stroke-width:4; stroke-opacity:1; fill:none\" points=\"\n",
       "  1065.51,1265.03 1065.51,1448.82 1454.52,1448.82 1454.52,1265.03 1065.51,1265.03 \n",
       "  \"/>\n",
       "<path clip-path=\"url(#clip0802)\" d=\"\n",
       "M1454.52 1448.82 L1454.52 1448.82 L1843.54 1448.82 L1843.54 1448.82 L1454.52 1448.82 L1454.52 1448.82  Z\n",
       "  \" fill=\"#009af9\" fill-rule=\"evenodd\" fill-opacity=\"1\"/>\n",
       "<polyline clip-path=\"url(#clip0802)\" style=\"stroke:#000000; stroke-width:4; stroke-opacity:1; fill:none\" points=\"\n",
       "  1454.52,1448.82 1454.52,1448.82 1843.54,1448.82 1454.52,1448.82 \n",
       "  \"/>\n",
       "<path clip-path=\"url(#clip0802)\" d=\"\n",
       "M1843.54 160.33 L1843.54 1448.82 L2232.55 1448.82 L2232.55 160.33 L1843.54 160.33 L1843.54 160.33  Z\n",
       "  \" fill=\"#009af9\" fill-rule=\"evenodd\" fill-opacity=\"1\"/>\n",
       "<polyline clip-path=\"url(#clip0802)\" style=\"stroke:#000000; stroke-width:4; stroke-opacity:1; fill:none\" points=\"\n",
       "  1843.54,160.33 1843.54,1448.82 2232.55,1448.82 2232.55,160.33 1843.54,160.33 \n",
       "  \"/>\n",
       "</svg>\n"
      ]
     },
     "execution_count": 119,
     "metadata": {},
     "output_type": "execute_result"
    }
   ],
   "source": [
    "nsamples = 1000\n",
    "Plots.histogram(simn(1, K, nsamples), label = false, title = \"$nsamples Samples from `K1`\")"
   ]
  },
  {
   "cell_type": "markdown",
   "metadata": {},
   "source": [
    "## Graph Representation"
   ]
  },
  {
   "cell_type": "markdown",
   "metadata": {},
   "source": [
    "It can be useful to represent a Markov chain as a graph rather than a matrix.\n",
    "Given a Markov chain with state space $\\chi$ and transition matrix $K$, there is a corresponding graph $G = (V, E)$ where $V = \\chi$ and $E = \\{(x, y) \\in \\chi \\times \\chi \\mid K(x, y) > 0\\}$.\n",
    "Each edge $(x, y)$ is labelled with a weight corresponding to its transition probability $K(x, y)$.\n",
    "Naturally, self-loops correspond to cases where $K(x,x) > 0$."
   ]
  },
  {
   "cell_type": "code",
   "execution_count": 120,
   "metadata": {},
   "outputs": [
    {
     "ename": "ArgumentError",
     "evalue": "ArgumentError: Package GraphPlot not found in current path:\n- Run `import Pkg; Pkg.add(\"GraphPlot\")` to install the GraphPlot package.\n",
     "output_type": "error",
     "traceback": [
      "ArgumentError: Package GraphPlot not found in current path:\n- Run `import Pkg; Pkg.add(\"GraphPlot\")` to install the GraphPlot package.\n",
      "",
      "Stacktrace:",
      " [1] require(::Module, ::Symbol) at ./loading.jl:887",
      " [2] top-level scope at In[120]:1"
     ]
    }
   ],
   "source": [
    "using GraphPlot, LightGraphs\n",
    "\n",
    "g = DiGraph(K)  # Creates a directed graph from the adjacency matrix\n",
    "gplot(g)"
   ]
  },
  {
   "cell_type": "markdown",
   "metadata": {},
   "source": [
    "## Higher Order Transitions\n",
    "For reasons that will become more clear, we are primarily interested in the long-term behaviour of a Markov chian.\n",
    "$K$ gives us one-step transition probabilities, but what about $2, 3, 4, ..., \\infty$ steps?"
   ]
  },
  {
   "cell_type": "markdown",
   "metadata": {},
   "source": [
    "To compute the probability of transitioning from some $x$ to $y$ in exactly two steps we must (i) enumerate all paths through the graph that start in state $x$ and end up in state $y$ in two steps, and (ii) calculate the transition probabiliy associated with each path.\n",
    "Just as we represented first-order transition probabilities as a  Matrix $k$, we can represent seecond order probabilities with a matrix, which we wil denote $K^2$, defined as:"
   ]
  },
  {
   "cell_type": "markdown",
   "metadata": {},
   "source": [
    "$$\n",
    "K^2(x, y) = \\sum K(x, a)K(a, y)\n",
    "$$"
   ]
  },
  {
   "cell_type": "markdown",
   "metadata": {},
   "source": [
    "Astute readers will notice that my choice of $K^2$ to denote the second-order transition probabilities was not arbitrary.\n",
    "More generally, the $n$th order transition probabilities are the $K^n$.\n",
    "The long term behaviour of the Markov Chain can then be understood by seeing what happens as $n$ increases."
   ]
  },
  {
   "cell_type": "code",
   "execution_count": 121,
   "metadata": {},
   "outputs": [
    {
     "data": {
      "text/plain": [
       "3×3 Array{Float64,2}:\n",
       " 0.0  1.0  0.0\n",
       " 0.0  0.4  0.6\n",
       " 0.3  0.0  0.7"
      ]
     },
     "execution_count": 121,
     "metadata": {},
     "output_type": "execute_result"
    }
   ],
   "source": [
    "Ka = [0 1 0\n",
    "      0 0 1\n",
    "      1 0 0]\n",
    "\n",
    "Kb = [0 1.0 0\n",
    "      0.5 0.5 0\n",
    "      0 0 1.0]\n",
    "\n",
    "Kc = [0 1.0 0\n",
    "      0.0 0.4 0.6\n",
    "      0.3 0 0.7]"
   ]
  },
  {
   "cell_type": "markdown",
   "metadata": {},
   "source": [
    "Let's visualise the heatmap"
   ]
  },
  {
   "cell_type": "code",
   "execution_count": 122,
   "metadata": {},
   "outputs": [
    {
     "name": "stderr",
     "output_type": "stream",
     "text": [
      "┌ Info: Saved animation to \n",
      "│   fn = /Users/francismccann/spring2020/CausalModels.jl/notebooks/tmp.gif\n",
      "└ @ Plots /Users/francismccann/.julia/packages/Plots/PuQ4f/src/animation.jl:98\n"
     ]
    },
    {
     "data": {
      "text/html": [
       "<img src=\"data:image/gif;base64,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\" />"
      ],
      "text/plain": [
       "Plots.AnimatedGif(\"/Users/francismccann/spring2020/CausalModels.jl/notebooks/tmp.gif\")"
      ]
     },
     "execution_count": 122,
     "metadata": {},
     "output_type": "execute_result"
    }
   ],
   "source": [
    "function plotK(K, i)\n",
    "  Plots.heatmap(K^i;\n",
    "                legend = false,\n",
    "                xaxis = false,\n",
    "                yaxis = false,\n",
    "                framestyle=:box_style,\n",
    "                aspect_ratio=1,\n",
    "                size = (500, 500),\n",
    "                title = \"t = $i\")\n",
    "end\n",
    "\n",
    "using Plots\n",
    "\n",
    "anim = @animate for i=1:15\n",
    "  plot(plotK(Ka, i), plotK(Kb, i), plotK(Kc, i), layout = (1, 3))\n",
    "end\n",
    "gif(anim; fps = 2)"
   ]
  },
  {
   "cell_type": "markdown",
   "metadata": {},
   "source": [
    "## Stationary Distributions"
   ]
  },
  {
   "cell_type": "markdown",
   "metadata": {},
   "source": [
    "As we have just seen\n",
    "Since $\\chi$ is finite, we can represent a probability distribution over it as a probability vector.\n",
    "Then, if the initial state is specified by $\\pi$, the distribution over states after one step in the chain is simply:"
   ]
  },
  {
   "cell_type": "markdown",
   "metadata": {},
   "source": [
    "$$\n",
    "\\pi K\n",
    "$$"
   ]
  },
  {
   "cell_type": "markdown",
   "metadata": {},
   "source": [
    "The distribution $\\pi$ is __stationary__ (with respect to $K$) if taking a step according to $K$ does not change the distribution over states.\n",
    "That is:"
   ]
  },
  {
   "cell_type": "markdown",
   "metadata": {},
   "source": [
    "$$\n",
    "\\pi = FINISHME\n",
    "$$"
   ]
  },
  {
   "cell_type": "markdown",
   "metadata": {},
   "source": [
    "Stationarity is also easy to compute:"
   ]
  },
  {
   "cell_type": "markdown",
   "metadata": {},
   "source": [
    "Hint: Use ≈ (isapprox) instead of equality due to floating point imprecision"
   ]
  },
  {
   "cell_type": "code",
   "execution_count": 123,
   "metadata": {},
   "outputs": [
    {
     "data": {
      "text/plain": [
       "isstationary (generic function with 1 method)"
      ]
     },
     "execution_count": 123,
     "metadata": {},
     "output_type": "execute_result"
    }
   ],
   "source": [
    "isstationary(π, K) = FINISHME # Hint: use ≈ for equality"
   ]
  },
  {
   "cell_type": "markdown",
   "metadata": {},
   "source": [
    "In the gif images above, only the third graph converges to its stationary distribution"
   ]
  },
  {
   "cell_type": "code",
   "execution_count": 9,
   "metadata": {},
   "outputs": [
    {
     "name": "stdout",
     "output_type": "stream",
     "text": [
      "\u001b[37m\u001b[1mTest Summary:           | \u001b[22m\u001b[39m\u001b[32m\u001b[1mPass  \u001b[22m\u001b[39m\u001b[36m\u001b[1mTotal\u001b[22m\u001b[39m\n",
      "Stationary distribution | \u001b[32m   2  \u001b[39m\u001b[36m    2\u001b[39m\n"
     ]
    },
    {
     "data": {
      "text/plain": [
       "Test.DefaultTestSet(\"Stationary distribution\", Any[], 2, false)"
      ]
     },
     "execution_count": 9,
     "metadata": {},
     "output_type": "execute_result"
    }
   ],
   "source": [
    "\"`n` such that `K^n` is stationary distribution\"\n",
    "function convergencepower(K)\n",
    "  FINISHME\n",
    "end\n",
    "\n",
    "@testset \"Stationary distribution\" begin\n",
    "  @test convergencepower(K) == 21\n",
    "  π = [0.4220779220780727 0.1818181818182467 0.3961038961040375]\n",
    "  @test isstationary(π, K^21)\n",
    "end"
   ]
  },
  {
   "cell_type": "markdown",
   "metadata": {},
   "source": [
    "## The Fundamental Theorem of Markov Chains."
   ]
  },
  {
   "cell_type": "markdown",
   "metadata": {},
   "source": [
    "The fundamental theorem of Markov chains says that a particular class (`Kc`, but not `Ka`, or `Kb` above) of Markov chains have a unique stationary distribution, and that stationary distribution is found by taking $n$ to infinity in $K^n$.\n",
    "Formally:\n",
    "If a Markov chain $K$ is irreducible and aperiodic it has a unique stationary distribtion $\\pi$.\n",
    "Moreover $K^n(x,y) \\to \\pi(y)$ as $t \\to \\infty$ for all $x, y \\in \\chi$:"
   ]
  },
  {
   "cell_type": "markdown",
   "metadata": {},
   "source": [
    "Irreducibility means that the graph is connected.\n",
    "This is easy to compute:"
   ]
  },
  {
   "cell_type": "code",
   "execution_count": 129,
   "metadata": {},
   "outputs": [
    {
     "data": {
      "text/plain": [
       "isirreducible"
      ]
     },
     "execution_count": 129,
     "metadata": {},
     "output_type": "execute_result"
    }
   ],
   "source": [
    "using LightGraphs\n",
    "\n",
    "\"A directed graph is irreducible if it is strongly connected\"\n",
    "function isirreducible(g::DiGraph) \n",
    "    return is_strongly_connected(g)\n",
    "end\n",
    "    # (Hint use an existing function from LightGraphs)\n",
    "\n",
    "\"A stochastic matrix is irreudicble if associated graph is irreducible\"\n",
    "isirreducible(K::Matrix) = isirreducible(DiGraph(K))"
   ]
  },
  {
   "cell_type": "markdown",
   "metadata": {},
   "source": [
    "This definition is fundamental because it means that if we run a markov for a long enough time (e.g. we call `simn(x, K, n)` for some large `n`), the resulting sample will be (i) independent of what `x` is and (ii) it will be a sample from some unique distribution -- the stationary distribution.\n",
    "We will see in the following section how to exploit this property to do inference."
   ]
  },
  {
   "cell_type": "markdown",
   "metadata": {},
   "source": [
    "# The Metropolis Algorithm\n",
    "Understanding the stationary behaviour of Markov chains can be useful.\n",
    "For instance, as mentioned earlier, Monopoly can be modelled as Markov chain.\n",
    "That said, our use case is in some sense the inverse problem."
   ]
  },
  {
   "cell_type": "markdown",
   "metadata": {},
   "source": [
    "As before we have a state space $\\chi$, but now the problem is that we have a target distribution $\\pi$ that we want to sample from.\n",
    "One might wonder what all the fuss is about; if we have a probability vector for $\\pi$ can't we just sample from it?\n",
    "Afterall, we did just that in the code for `sim1` above.\n",
    "The difficulty arises because in many cases $\\pi$ will be too large to represent as a probability vector.\n",
    "The best we can do is represent it as a probability mass function $\\pi : \\chi \\to \\mathbb{R}^+$.\n",
    "Moreover, we will we want to sample from cases where $\\chi$ could be countably or uncoudtably infinite, or even infinite dimensional."
   ]
  },
  {
   "cell_type": "markdown",
   "metadata": {},
   "source": [
    "The Metropolis algorithm can be thought of as method to construct a transition matrix $J$ whose stationary distribution is our target distribution $\\pi$.\n",
    "Specifically, the Metropolis algorithm constructs $J$ from some other arbitrary transition matrix $K$."
   ]
  },
  {
   "cell_type": "markdown",
   "metadata": {},
   "source": [
    "$$\n",
    "J(x, y) = K(x, y) \\cdot \\min\\left(1, \\frac{\\pi(y)}{\\pi(x)}\\right)\n",
    "$$"
   ]
  },
  {
   "cell_type": "markdown",
   "metadata": {},
   "source": [
    "Algorithmically:"
   ]
  },
  {
   "cell_type": "code",
   "execution_count": 133,
   "metadata": {},
   "outputs": [
    {
     "name": "stdout",
     "output_type": "stream",
     "text": [
      "\u001b[91m\u001b[1mError During Test\u001b[22m\u001b[39m at \u001b[39m\u001b[1mIn[133]:27\u001b[22m\n",
      "  Test threw exception\n",
      "  Expression: simMetropolis1(Random.MersenneTwister(seed), 1, Ksym, π1) == 1\n",
      "  UndefVarError: y not defined\n",
      "  Stacktrace:\n",
      "   [1] simMetropolis1(::MersenneTwister, ::Int64, ::Array{Float64,2}, ::typeof(π1)) at ./In[133]:9\n",
      "   [2] top-level scope at In[133]:27\n",
      "   [3] eval at ./boot.jl:330 [inlined]\n",
      "   [4] softscope_include_string(::Module, ::String, ::String) at /Users/francismccann/.julia/packages/SoftGlobalScope/cSbw5/src/SoftGlobalScope.jl:218\n",
      "   [5] execute_request(::ZMQ.Socket, ::IJulia.Msg) at /Users/francismccann/.julia/packages/IJulia/yLI42/src/execute_request.jl:67\n",
      "   [6] #invokelatest#1 at ./essentials.jl:709 [inlined]\n",
      "   [7] invokelatest at ./essentials.jl:708 [inlined]\n",
      "   [8] eventloop(::ZMQ.Socket) at /Users/francismccann/.julia/packages/IJulia/yLI42/src/eventloop.jl:8\n",
      "   [9] (::IJulia.var\"#15#18\")() at ./task.jl:333\n",
      "  \n"
     ]
    },
    {
     "ename": "Test.FallbackTestSetException",
     "evalue": "There was an error during testing",
     "output_type": "error",
     "traceback": [
      "There was an error during testing",
      "",
      "Stacktrace:",
      " [1] record(::Test.FallbackTestSet, ::Test.Error) at /Users/julia/buildbot/worker/package_macos64/build/usr/share/julia/stdlib/v1.3/Test/src/Test.jl:730",
      " [2] do_test(::Test.Threw, ::Expr) at /Users/julia/buildbot/worker/package_macos64/build/usr/share/julia/stdlib/v1.3/Test/src/Test.jl:519",
      " [3] top-level scope at In[133]:27"
     ]
    }
   ],
   "source": [
    "using LinearAlgebra\n",
    "\"`true` with probability `p`\"\n",
    "flip(rng, p) =  rand(Bernoulli(p))==1 ? true : false\n",
    "\n",
    "flip(p) = flip(Random.GLOBAL_RNG)\n",
    "\n",
    "\"Take one step from `x` using Metropolis to sample from `π` using proposal `K`\"\n",
    "function simMetropolis1(rng, x, K, π)\n",
    "    while true\n",
    "        \n",
    "        p=dot(K,min(1,π(y)/π(x)))\n",
    "end\n",
    "\n",
    "simMetropolis1(x, K, π) = simMetropolis1(Random.GLOBAL_RNG, x, K, π)\n",
    "\n",
    "\"Take `n` steps using Metropolis algorithm\"\n",
    "function simMetropolisn(rng, x, K, π, n)\n",
    "  return \n",
    "end\n",
    "\n",
    "simMetropolisn(x, K, π, n) = simMetropolisn(Random.GLOBAL_RNG, x, K, π, n)\n",
    "\n",
    "Ksym = [0.3 0.2 0.5\n",
    "        0.2 0.4 0.4\n",
    "        0.5 0.4 0.1]\n",
    "π1(x) = [0.3, 0.6, 0.1][x]\n",
    "\n",
    "seed = 0\n",
    "@test simMetropolis1(Random.MersenneTwister(seed), 1, Ksym, π1) == 1"
   ]
  },
  {
   "cell_type": "markdown",
   "metadata": {},
   "source": [
    "__TEST__: this histogram should look like the values on `π1`"
   ]
  },
  {
   "cell_type": "code",
   "execution_count": 12,
   "metadata": {},
   "outputs": [
    {
     "data": {
      "image/svg+xml": [
       "<?xml version=\"1.0\" encoding=\"utf-8\"?>\n",
       "<svg xmlns=\"http://www.w3.org/2000/svg\" xmlns:xlink=\"http://www.w3.org/1999/xlink\" width=\"600\" height=\"400\" viewBox=\"0 0 2400 1600\">\n",
       "<defs>\n",
       "  <clipPath id=\"clip7300\">\n",
       "    <rect x=\"0\" y=\"0\" width=\"2400\" height=\"1600\"/>\n",
       "  </clipPath>\n",
       "</defs>\n",
       "<path clip-path=\"url(#clip7300)\" d=\"\n",
       "M0 1600 L2400 1600 L2400 0 L0 0  Z\n",
       "  \" fill=\"#ffffff\" fill-rule=\"evenodd\" fill-opacity=\"1\"/>\n",
       "<defs>\n",
       "  <clipPath id=\"clip7301\">\n",
       "    <rect x=\"480\" y=\"0\" width=\"1681\" height=\"1600\"/>\n",
       "  </clipPath>\n",
       "</defs>\n",
       "<path clip-path=\"url(#clip7300)\" d=\"\n",
       "M109.754 1466.71 L2352.76 1466.71 L2352.76 151.017 L109.754 151.017  Z\n",
       "  \" fill=\"#ffffff\" fill-rule=\"evenodd\" fill-opacity=\"1\"/>\n",
       "<defs>\n",
       "  <clipPath id=\"clip7302\">\n",
       "    <rect x=\"109\" y=\"151\" width=\"2244\" height=\"1317\"/>\n",
       "  </clipPath>\n",
       "</defs>\n",
       "<polyline clip-path=\"url(#clip7302)\" style=\"stroke:#000000; stroke-width:2; stroke-opacity:0.1; fill:none\" points=\"\n",
       "  233.124,1466.71 233.124,151.017 \n",
       "  \"/>\n",
       "<polyline clip-path=\"url(#clip7302)\" style=\"stroke:#000000; stroke-width:2; stroke-opacity:0.1; fill:none\" points=\"\n",
       "  686.82,1466.71 686.82,151.017 \n",
       "  \"/>\n",
       "<polyline clip-path=\"url(#clip7302)\" style=\"stroke:#000000; stroke-width:2; stroke-opacity:0.1; fill:none\" points=\"\n",
       "  1140.52,1466.71 1140.52,151.017 \n",
       "  \"/>\n",
       "<polyline clip-path=\"url(#clip7302)\" style=\"stroke:#000000; stroke-width:2; stroke-opacity:0.1; fill:none\" points=\"\n",
       "  1594.21,1466.71 1594.21,151.017 \n",
       "  \"/>\n",
       "<polyline clip-path=\"url(#clip7302)\" style=\"stroke:#000000; stroke-width:2; stroke-opacity:0.1; fill:none\" points=\"\n",
       "  2047.91,1466.71 2047.91,151.017 \n",
       "  \"/>\n",
       "<polyline clip-path=\"url(#clip7302)\" style=\"stroke:#000000; stroke-width:2; stroke-opacity:0.1; fill:none\" points=\"\n",
       "  109.754,1429.47 2352.76,1429.47 \n",
       "  \"/>\n",
       "<polyline clip-path=\"url(#clip7302)\" style=\"stroke:#000000; stroke-width:2; stroke-opacity:0.1; fill:none\" points=\"\n",
       "  109.754,1041.2 2352.76,1041.2 \n",
       "  \"/>\n",
       "<polyline clip-path=\"url(#clip7302)\" style=\"stroke:#000000; stroke-width:2; stroke-opacity:0.1; fill:none\" points=\"\n",
       "  109.754,652.934 2352.76,652.934 \n",
       "  \"/>\n",
       "<polyline clip-path=\"url(#clip7302)\" style=\"stroke:#000000; stroke-width:2; stroke-opacity:0.1; fill:none\" points=\"\n",
       "  109.754,264.666 2352.76,264.666 \n",
       "  \"/>\n",
       "<polyline clip-path=\"url(#clip7300)\" style=\"stroke:#000000; stroke-width:4; stroke-opacity:1; fill:none\" points=\"\n",
       "  109.754,1466.71 2352.76,1466.71 \n",
       "  \"/>\n",
       "<polyline clip-path=\"url(#clip7300)\" style=\"stroke:#000000; stroke-width:4; stroke-opacity:1; fill:none\" points=\"\n",
       "  109.754,1466.71 109.754,151.017 \n",
       "  \"/>\n",
       "<polyline clip-path=\"url(#clip7300)\" style=\"stroke:#000000; stroke-width:4; stroke-opacity:1; fill:none\" points=\"\n",
       "  233.124,1466.71 233.124,1450.92 \n",
       "  \"/>\n",
       "<polyline clip-path=\"url(#clip7300)\" style=\"stroke:#000000; stroke-width:4; stroke-opacity:1; fill:none\" points=\"\n",
       "  686.82,1466.71 686.82,1450.92 \n",
       "  \"/>\n",
       "<polyline clip-path=\"url(#clip7300)\" style=\"stroke:#000000; stroke-width:4; stroke-opacity:1; fill:none\" points=\"\n",
       "  1140.52,1466.71 1140.52,1450.92 \n",
       "  \"/>\n",
       "<polyline clip-path=\"url(#clip7300)\" style=\"stroke:#000000; stroke-width:4; stroke-opacity:1; fill:none\" points=\"\n",
       "  1594.21,1466.71 1594.21,1450.92 \n",
       "  \"/>\n",
       "<polyline clip-path=\"url(#clip7300)\" style=\"stroke:#000000; stroke-width:4; stroke-opacity:1; fill:none\" points=\"\n",
       "  2047.91,1466.71 2047.91,1450.92 \n",
       "  \"/>\n",
       "<polyline clip-path=\"url(#clip7300)\" style=\"stroke:#000000; stroke-width:4; stroke-opacity:1; fill:none\" points=\"\n",
       "  109.754,1429.47 136.67,1429.47 \n",
       "  \"/>\n",
       "<polyline clip-path=\"url(#clip7300)\" style=\"stroke:#000000; stroke-width:4; stroke-opacity:1; fill:none\" points=\"\n",
       "  109.754,1041.2 136.67,1041.2 \n",
       "  \"/>\n",
       "<polyline clip-path=\"url(#clip7300)\" style=\"stroke:#000000; stroke-width:4; stroke-opacity:1; fill:none\" points=\"\n",
       "  109.754,652.934 136.67,652.934 \n",
       "  \"/>\n",
       "<polyline clip-path=\"url(#clip7300)\" style=\"stroke:#000000; stroke-width:4; stroke-opacity:1; fill:none\" points=\"\n",
       "  109.754,264.666 136.67,264.666 \n",
       "  \"/>\n",
       "<g clip-path=\"url(#clip7300)\">\n",
       "<text style=\"fill:#000000; fill-opacity:1; font-family:Arial,Helvetica Neue,Helvetica,sans-serif; font-size:48px; text-anchor:middle;\" transform=\"rotate(0, 233.124, 1520.71)\" x=\"233.124\" y=\"1520.71\">1.0</text>\n",
       "</g>\n",
       "<g clip-path=\"url(#clip7300)\">\n",
       "<text style=\"fill:#000000; fill-opacity:1; font-family:Arial,Helvetica Neue,Helvetica,sans-serif; font-size:48px; text-anchor:middle;\" transform=\"rotate(0, 686.82, 1520.71)\" x=\"686.82\" y=\"1520.71\">1.5</text>\n",
       "</g>\n",
       "<g clip-path=\"url(#clip7300)\">\n",
       "<text style=\"fill:#000000; fill-opacity:1; font-family:Arial,Helvetica Neue,Helvetica,sans-serif; font-size:48px; text-anchor:middle;\" transform=\"rotate(0, 1140.52, 1520.71)\" x=\"1140.52\" y=\"1520.71\">2.0</text>\n",
       "</g>\n",
       "<g clip-path=\"url(#clip7300)\">\n",
       "<text style=\"fill:#000000; fill-opacity:1; font-family:Arial,Helvetica Neue,Helvetica,sans-serif; font-size:48px; text-anchor:middle;\" transform=\"rotate(0, 1594.21, 1520.71)\" x=\"1594.21\" y=\"1520.71\">2.5</text>\n",
       "</g>\n",
       "<g clip-path=\"url(#clip7300)\">\n",
       "<text style=\"fill:#000000; fill-opacity:1; font-family:Arial,Helvetica Neue,Helvetica,sans-serif; font-size:48px; text-anchor:middle;\" transform=\"rotate(0, 2047.91, 1520.71)\" x=\"2047.91\" y=\"1520.71\">3.0</text>\n",
       "</g>\n",
       "<g clip-path=\"url(#clip7300)\">\n",
       "<text style=\"fill:#000000; fill-opacity:1; font-family:Arial,Helvetica Neue,Helvetica,sans-serif; font-size:48px; text-anchor:end;\" transform=\"rotate(0, 85.7545, 1446.97)\" x=\"85.7545\" y=\"1446.97\">0</text>\n",
       "</g>\n",
       "<g clip-path=\"url(#clip7300)\">\n",
       "<text style=\"fill:#000000; fill-opacity:1; font-family:Arial,Helvetica Neue,Helvetica,sans-serif; font-size:48px; text-anchor:end;\" transform=\"rotate(0, 85.7545, 1058.7)\" x=\"85.7545\" y=\"1058.7\">1</text>\n",
       "</g>\n",
       "<g clip-path=\"url(#clip7300)\">\n",
       "<text style=\"fill:#000000; fill-opacity:1; font-family:Arial,Helvetica Neue,Helvetica,sans-serif; font-size:48px; text-anchor:end;\" transform=\"rotate(0, 85.7545, 670.434)\" x=\"85.7545\" y=\"670.434\">2</text>\n",
       "</g>\n",
       "<g clip-path=\"url(#clip7300)\">\n",
       "<text style=\"fill:#000000; fill-opacity:1; font-family:Arial,Helvetica Neue,Helvetica,sans-serif; font-size:48px; text-anchor:end;\" transform=\"rotate(0, 85.7545, 282.166)\" x=\"85.7545\" y=\"282.166\">3</text>\n",
       "</g>\n",
       "<g clip-path=\"url(#clip7300)\">\n",
       "<text style=\"fill:#000000; fill-opacity:1; font-family:Arial,Helvetica Neue,Helvetica,sans-serif; font-size:84px; text-anchor:middle;\" transform=\"rotate(0, 1231.26, 73.2)\" x=\"1231.26\" y=\"73.2\">1000 samples from Metropolis algorithm</text>\n",
       "</g>\n",
       "<path clip-path=\"url(#clip7302)\" d=\"\n",
       "M233.124 901.954 L233.124 1429.47 L414.602 1429.47 L414.602 901.954 L233.124 901.954 L233.124 901.954  Z\n",
       "  \" fill=\"#009af9\" fill-rule=\"evenodd\" fill-opacity=\"1\"/>\n",
       "<polyline clip-path=\"url(#clip7302)\" style=\"stroke:#000000; stroke-width:4; stroke-opacity:1; fill:none\" points=\"\n",
       "  233.124,901.954 233.124,1429.47 414.602,1429.47 414.602,901.954 233.124,901.954 \n",
       "  \"/>\n",
       "<path clip-path=\"url(#clip7302)\" d=\"\n",
       "M414.602 1429.47 L414.602 1429.47 L596.081 1429.47 L596.081 1429.47 L414.602 1429.47 L414.602 1429.47  Z\n",
       "  \" fill=\"#009af9\" fill-rule=\"evenodd\" fill-opacity=\"1\"/>\n",
       "<polyline clip-path=\"url(#clip7302)\" style=\"stroke:#000000; stroke-width:4; stroke-opacity:1; fill:none\" points=\"\n",
       "  414.602,1429.47 414.602,1429.47 596.081,1429.47 414.602,1429.47 \n",
       "  \"/>\n",
       "<path clip-path=\"url(#clip7302)\" d=\"\n",
       "M596.081 1429.47 L596.081 1429.47 L777.559 1429.47 L777.559 1429.47 L596.081 1429.47 L596.081 1429.47  Z\n",
       "  \" fill=\"#009af9\" fill-rule=\"evenodd\" fill-opacity=\"1\"/>\n",
       "<polyline clip-path=\"url(#clip7302)\" style=\"stroke:#000000; stroke-width:4; stroke-opacity:1; fill:none\" points=\"\n",
       "  596.081,1429.47 596.081,1429.47 777.559,1429.47 596.081,1429.47 \n",
       "  \"/>\n",
       "<path clip-path=\"url(#clip7302)\" d=\"\n",
       "M777.559 1429.47 L777.559 1429.47 L959.037 1429.47 L959.037 1429.47 L777.559 1429.47 L777.559 1429.47  Z\n",
       "  \" fill=\"#009af9\" fill-rule=\"evenodd\" fill-opacity=\"1\"/>\n",
       "<polyline clip-path=\"url(#clip7302)\" style=\"stroke:#000000; stroke-width:4; stroke-opacity:1; fill:none\" points=\"\n",
       "  777.559,1429.47 777.559,1429.47 959.037,1429.47 777.559,1429.47 \n",
       "  \"/>\n",
       "<path clip-path=\"url(#clip7302)\" d=\"\n",
       "M959.037 1429.47 L959.037 1429.47 L1140.52 1429.47 L1140.52 1429.47 L959.037 1429.47 L959.037 1429.47  Z\n",
       "  \" fill=\"#009af9\" fill-rule=\"evenodd\" fill-opacity=\"1\"/>\n",
       "<polyline clip-path=\"url(#clip7302)\" style=\"stroke:#000000; stroke-width:4; stroke-opacity:1; fill:none\" points=\"\n",
       "  959.037,1429.47 959.037,1429.47 1140.52,1429.47 959.037,1429.47 \n",
       "  \"/>\n",
       "<path clip-path=\"url(#clip7302)\" d=\"\n",
       "M1140.52 188.253 L1140.52 1429.47 L1321.99 1429.47 L1321.99 188.253 L1140.52 188.253 L1140.52 188.253  Z\n",
       "  \" fill=\"#009af9\" fill-rule=\"evenodd\" fill-opacity=\"1\"/>\n",
       "<polyline clip-path=\"url(#clip7302)\" style=\"stroke:#000000; stroke-width:4; stroke-opacity:1; fill:none\" points=\"\n",
       "  1140.52,188.253 1140.52,1429.47 1321.99,1429.47 1321.99,188.253 1140.52,188.253 \n",
       "  \"/>\n",
       "<path clip-path=\"url(#clip7302)\" d=\"\n",
       "M1321.99 1429.47 L1321.99 1429.47 L1503.47 1429.47 L1503.47 1429.47 L1321.99 1429.47 L1321.99 1429.47  Z\n",
       "  \" fill=\"#009af9\" fill-rule=\"evenodd\" fill-opacity=\"1\"/>\n",
       "<polyline clip-path=\"url(#clip7302)\" style=\"stroke:#000000; stroke-width:4; stroke-opacity:1; fill:none\" points=\"\n",
       "  1321.99,1429.47 1321.99,1429.47 1503.47,1429.47 1321.99,1429.47 \n",
       "  \"/>\n",
       "<path clip-path=\"url(#clip7302)\" d=\"\n",
       "M1503.47 1429.47 L1503.47 1429.47 L1684.95 1429.47 L1684.95 1429.47 L1503.47 1429.47 L1503.47 1429.47  Z\n",
       "  \" fill=\"#009af9\" fill-rule=\"evenodd\" fill-opacity=\"1\"/>\n",
       "<polyline clip-path=\"url(#clip7302)\" style=\"stroke:#000000; stroke-width:4; stroke-opacity:1; fill:none\" points=\"\n",
       "  1503.47,1429.47 1503.47,1429.47 1684.95,1429.47 1503.47,1429.47 \n",
       "  \"/>\n",
       "<path clip-path=\"url(#clip7302)\" d=\"\n",
       "M1684.95 1429.47 L1684.95 1429.47 L1866.43 1429.47 L1866.43 1429.47 L1684.95 1429.47 L1684.95 1429.47  Z\n",
       "  \" fill=\"#009af9\" fill-rule=\"evenodd\" fill-opacity=\"1\"/>\n",
       "<polyline clip-path=\"url(#clip7302)\" style=\"stroke:#000000; stroke-width:4; stroke-opacity:1; fill:none\" points=\"\n",
       "  1684.95,1429.47 1684.95,1429.47 1866.43,1429.47 1684.95,1429.47 \n",
       "  \"/>\n",
       "<path clip-path=\"url(#clip7302)\" d=\"\n",
       "M1866.43 1429.47 L1866.43 1429.47 L2047.91 1429.47 L2047.91 1429.47 L1866.43 1429.47 L1866.43 1429.47  Z\n",
       "  \" fill=\"#009af9\" fill-rule=\"evenodd\" fill-opacity=\"1\"/>\n",
       "<polyline clip-path=\"url(#clip7302)\" style=\"stroke:#000000; stroke-width:4; stroke-opacity:1; fill:none\" points=\"\n",
       "  1866.43,1429.47 1866.43,1429.47 2047.91,1429.47 1866.43,1429.47 \n",
       "  \"/>\n",
       "<path clip-path=\"url(#clip7302)\" d=\"\n",
       "M2047.91 1256.86 L2047.91 1429.47 L2229.39 1429.47 L2229.39 1256.86 L2047.91 1256.86 L2047.91 1256.86  Z\n",
       "  \" fill=\"#009af9\" fill-rule=\"evenodd\" fill-opacity=\"1\"/>\n",
       "<polyline clip-path=\"url(#clip7302)\" style=\"stroke:#000000; stroke-width:4; stroke-opacity:1; fill:none\" points=\"\n",
       "  2047.91,1256.86 2047.91,1429.47 2229.39,1429.47 2229.39,1256.86 2047.91,1256.86 \n",
       "  \"/>\n",
       "</svg>\n"
      ]
     },
     "execution_count": 12,
     "metadata": {},
     "output_type": "execute_result"
    }
   ],
   "source": [
    "Plots.histogram(simMetropolisn(1, Ksym, π1, 1000); normalize = true, label = false,\n",
    "                title = \"$nsamples samples from Metropolis algorithm\")"
   ]
  },
  {
   "cell_type": "markdown",
   "metadata": {},
   "source": [
    "---\n",
    "\n",
    "*This notebook was generated using [Literate.jl](https://github.com/fredrikekre/Literate.jl).*"
   ]
  }
 ],
 "metadata": {
  "kernelspec": {
   "display_name": "Julia 1.3.1",
   "language": "julia",
   "name": "julia-1.3"
  },
  "language_info": {
   "file_extension": ".jl",
   "mimetype": "application/julia",
   "name": "julia",
   "version": "1.3.1"
  }
 },
 "nbformat": 4,
 "nbformat_minor": 3
}
